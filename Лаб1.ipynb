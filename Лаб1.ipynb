{
  "metadata": {
    "language_info": {
      "name": ""
    },
    "kernelspec": {
      "name": "python",
      "display_name": "Python (Pyodide)",
      "language": "python"
    }
  },
  "nbformat_minor": 4,
  "nbformat": 4,
  "cells": [
    {
      "cell_type": "code",
      "source": "import math\n\nx1 = 18 # Точне число sqrt(x1)\n\nx2 = 9 / 11 # Точне число x2\n\nx1_1 = 4.24 # Наближене число x1\n\nx2_2 = 0.818 # Наближене число x2\n\ndef f(x1, x1_1, x2, x2_2):\n\n# 1) Визначення, яка рівність точніша\n\nrel_error_x1 = abs(math.sqrt(x1) - x1_1) / abs(math.sqrt(x1))\n\nrel_error_x2 = abs(x2 - x2_2) / abs(x2)\n\nif rel_error_x1 < rel_error_x2:\n\nprint(\"Перша рівність точніше з відносною похибкою:\", rel_error_x1)\n\nelif rel_error_x2 < rel_error_x1:\n\nprint(\"Друга рівність точніше з відносною похибкою:\", rel_error_x2)\n\nelse:\n\nprint(\"Обидві рівності мають однакову точність з відносною похибкою:\", rel_error_x1)\n\n# 2) Визначення кількості правильних значущих цифр\n\nnarrow_x1 = len(str(int(x1_1))) # Кількість цифр у вузькому розумінні\n\nwide_x1 = len(str(x1_1).lstrip('0')) # Кількість цифр у широкому розумінні\n\nnarrow_x2 = len(str(int(x2_2))) # Кількість цифр у вузькому розумінні\n\nwide_x2 = len(str(x2_2).lstrip('0')) # Кількість цифр у широкому розумінні\n\nprint(\"а) Кількість правильних значущих цифр (вузьке розуміння):\", narrow_x1, narrow_x2)\n\nprint(\"б) Кількість правильних значущих цифр (широке розуміння):\", wide_x1, wide_x2)\n\n# 3) Знайти граничні абсолютні та відносні похибки\n\nabs_error_x1 = abs(math.sqrt(x1) - x1_1)\n\nabs_error_x2 = abs(x2 - x2_2)\n\nrel_error_narrow_x1 = abs_error_x1 / abs(math.sqrt(x1))\n\nrel_error_narrow_x2 = abs_error_x2 / abs(x2)\n\nrel_error_wide_x1 = abs_error_x1 / abs(x1_1)\n\nrel_error_wide_x2 = abs_error_x2 / abs(x2_2)\n\nprint(\"а) Гранична абсолютна похибка:\", abs_error_x1)\n\nprint(\" Гранична відносна похибка (вузьке розуміння):\", rel_error_narrow_x1)\n\nprint(\" Гранична відносна похибка (широке розуміння):\", rel_error_wide_x1)\n\nprint(\"б) Гранична абсолютна похибка:\", abs_error_x2)\n\nprint(\" Гранична відносна похибка (вузьке розуміння):\", rel_error_narrow_x2)\n\nprint(\" Гранична відносна похибка (широке розуміння):\", rel_error_wide_x2)\n\nf(x1, x1_1, x2, x2_2)",
      "metadata": {},
      "execution_count": null,
      "outputs": []
    }
  ]
}