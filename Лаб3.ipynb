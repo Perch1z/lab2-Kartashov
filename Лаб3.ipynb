{
  "metadata": {
    "language_info": {
      "name": ""
    },
    "kernelspec": {
      "name": "python",
      "display_name": "Python (Pyodide)",
      "language": "python"
    }
  },
  "nbformat_minor": 4,
  "nbformat": 4,
  "cells": [
    {
      "cell_type": "code",
      "source": "import numpy as np\n\nfrom scipy.misc import derivative\n\ndef f(x):\n\nreturn x**4 - 108*x + 7\n\ndef newton(a, b, eps):\n\ndf2 = derivative(f, b, n=2)\n\nif f(b) * df2 > 0:\n\nxi = b\n\nelse:\n\nxi = a\n\ndf = derivative(f, xi, n=1)\n\nxi_1 = xi - f(xi) / df\n\nwhile abs(xi_1 - xi) > eps:\n\nxi = xi_1\n\nxi_1 = xi - f(xi) / df\n\nreturn xi_1\n\ndef combined(a, b, eps):\n\nif derivative(f, a, n=1) * derivative(f, a, n=2) > 0:\n\na0 = a\n\nb0 = b\n\nelse:\n\na0 = b\n\nb0 = a\n\nai = a0\n\nbi = b0\n\nwhile abs(ai - bi) > eps:\n\nai_1 = ai - f(ai) * (bi - ai) / (f(bi) - f(ai))\n\nbi_1 = bi - f(bi) / derivative(f, bi, n=1)\n\nai = ai_1\n\nbi = bi_1\n\nx = (ai_1 + bi_1) / 2\n\nreturn x\n\na = -2.\n\nb = -1/2\n\neps = 0.001\n\nresult_newton = newton(a, b, eps)\n\nresult_combined = combined(a, b, eps)\n\nprint(f'Newton method result: x = {result_newton:.5f}')\n\nprint(f'Combined method result: x = {result_combined:.5f}')",
      "metadata": {},
      "execution_count": null,
      "outputs": []
    }
  ]
}