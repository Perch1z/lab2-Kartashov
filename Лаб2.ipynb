{
  "metadata": {
    "language_info": {
      "name": ""
    },
    "kernelspec": {
      "name": "python",
      "display_name": "Python (Pyodide)",
      "language": "python"
    }
  },
  "nbformat_minor": 4,
  "nbformat": 4,
  "cells": [
    {
      "cell_type": "code",
      "source": "import math\n\nimport numpy as np\n\nfrom scipy.misc import derivative\n\ndef f(x):\n\nreturn x**4 - 108*x + 7\n\neps = 0.0001\n\ndef find_segments():\n\nsearch_range = np.arange(-10, 10, 1)\n\na = None\n\nprevious_x = None\n\ncurrent_x = None\n\nsegments = []\n\nfor x in search_range:\n\nx = round(x, 4)\n\ncurrent_x = f(x)\n\nif previous_x is not None and previous_x * current_x < 0:\n\nsegments.append((a, x))\n\na = x\n\nprevious_x = current_x\n\nreturn segments\n\ndef rec(a, b, eps):\n\nwhile abs(a - b) > eps:\n\nif f(a) * f((a + b) / 2) < 0:\n\nb = (a + b) / 2\n\nelse:\n\na = (a + b) / 2\n\nx = (a + b) / 2\n\nprint('x =', round(x, 5), ' - Half division method')\n\ndef hord(a, b, eps):\n\nif f(a) * derivative(f, a, n=2) > 0:\n\nx0 = a\n\nxi = b\n\nelse:\n\nx0 = b\n\nxi = a\n\nxi_1 = xi - (xi - x0) * f(xi) / (f(xi) - f(x0))\n\nwhile abs(xi_1 - xi) > eps:\n\nxi = xi_1\n\nxi_1 = xi - (xi - x0) * f(xi) / (f(xi) - f(x0))\n\nprint('x =', round(xi_1, 5), ' - Chord method')\n\nsegments = find_segments()\n\nfor a, b in segments:\n\nprint(f'Solution on segment [{a}, {b}]:')\n\nrec(a, b, eps)\n\nhord(a, b, eps)",
      "metadata": {},
      "execution_count": null,
      "outputs": []
    }
  ]
}