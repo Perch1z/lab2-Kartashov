{
  "metadata": {
    "language_info": {
      "codemirror_mode": {
        "name": "python",
        "version": 3
      },
      "file_extension": ".py",
      "mimetype": "text/x-python",
      "name": "python",
      "nbconvert_exporter": "python",
      "pygments_lexer": "ipython3",
      "version": "3.8"
    },
    "kernelspec": {
      "name": "python",
      "display_name": "Python (Pyodide)",
      "language": "python"
    }
  },
  "nbformat_minor": 4,
  "nbformat": 4,
  "cells": [
    {
      "cell_type": "code",
      "source": "import numpy as np\n\nimport matplotlib.pyplot as plt\n\nfrom scipy import optimize\n\nimport math\n\n# Графік системи рівнянь\n\nx_min, x_max = -1, 1\n\ny_min, y_max = -4, 1\n\nstep = 0.01\n\nx, y = np.meshgrid(np.arange(x_min, x_max, step),\n\nnp.arange(y_min, y_max, step))\n\neq1 = np.sin(x + 2) - y - 1.5\n\neq2 = x + np.cos(y - 2) - 0.5\n\nfig, ax = plt.subplots(figsize=(10, 10))\n\nax.contour(x, y, eq1, levels=[0], colors='red')\n\nax.contour(x, y, eq2, levels=[0], colors='blue')\n\nax.set_xlim([x_min, x_max])\n\nax.set_ylim([y_min, y_max])\n\nax.set_xlabel('x')\n\nax.set_ylabel('y')\n\nax.set_title('Графік системи рівнянь')\n\nplt.grid(True)\n\nplt.show()\n\n# Метод простої ітерації\n\nx0 = 0.15\n\ny0 = -2.1\n\ndef f1(y):\n\nreturn 1/3 * np.cos(y) + 0.3\n\ndef f2(x):\n\nreturn np.sin(x - 0.6) - 1.6\n\ndef simple_iteration(x, y, e):\n\nxn = x\n\nyn = y\n\nxn1 = f2(x)\n\nyn1 = f1(y)\n\nn = 1\n\nwhile (abs(xn1 - xn) >= e) or (abs(yn1 - yn) >= e):\n\nxn = xn1\n\nyn = yn1\n\nxn1 = f2(yn)\n\nyn1 = f1(xn)\n\nn += 1\n\nprint('Simple iteration:')\n\nprint('x =', xn, '\\ny =', yn, '\\nThe amount of iteration =', n)\n\nsimple_iteration(x0, y0, 0.001)\n\n# Перевірка за допомогою optimize.root()\n\ndef f3(xy):\n\nx, y = xy\n\nreturn [np.sin(x + 2) - y - 1.5, x + np.cos(y - 2) - 0.5]\n\ninitial_guess = [0., 0.]\n\nsolution_check = optimize.root(f3, initial_guess, method='hybr')\n\nprint(\"\\nCheck using optimize.root:\", solution_check.x)",
      "metadata": {
        "trusted": true
      },
      "execution_count": 1,
      "outputs": [
        {
          "ename": "<class 'IndentationError'>",
          "evalue": "expected an indented block after function definition on line 51 (<ipython-input-1-9dff5efa09f3>, line 53)",
          "traceback": [
            "\u001b[0;36m  Cell \u001b[0;32mIn[1], line 53\u001b[0;36m\u001b[0m\n\u001b[0;31m    return 1/3 * np.cos(y) + 0.3\u001b[0m\n\u001b[0m    ^\u001b[0m\n\u001b[0;31mIndentationError\u001b[0m\u001b[0;31m:\u001b[0m expected an indented block after function definition on line 51\n"
          ],
          "output_type": "error"
        }
      ]
    },
    {
      "cell_type": "code",
      "source": "",
      "metadata": {},
      "execution_count": null,
      "outputs": []
    },
    {
      "cell_type": "code",
      "source": "",
      "metadata": {},
      "execution_count": null,
      "outputs": []
    }
  ]
}