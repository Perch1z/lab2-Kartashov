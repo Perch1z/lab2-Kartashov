{
  "nbformat": 4,
  "nbformat_minor": 0,
  "metadata": {
    "colab": {
      "provenance": []
    },
    "kernelspec": {
      "name": "python3",
      "display_name": "Python 3"
    },
    "language_info": {
      "name": "python"
    }
  },
  "cells": [
    {
      "cell_type": "code",
      "source": [
        "from scipy import integrate\n",
        "import numpy as np\n",
        "\n",
        "eps = 0.001\n",
        "a = 0.6\n",
        "b = 1.5\n",
        "\n",
        "def f1(x):\n",
        "    return x / np.sqrt(2*x + 1)\n",
        "\n",
        "def left_rec(f1, a, b, n):\n",
        "    h = (b - a) / n\n",
        "    sum = 0\n",
        "    for i in range(0, n):\n",
        "        sum += f1(a + i * h)\n",
        "    return sum * h\n",
        "\n",
        "v, err = integrate.quad(f1, a, b)  # Перевірка\n",
        "\n",
        "# Перевірка точності за правилом Рунге:\n",
        "if abs(left_rec(f1, a, b, 2 * 10) - left_rec(f1, a, b, 10)) / 3. <= eps:\n",
        "  print(\"left rectangle:\", round(left_rec(f1, a, b, 10), 5))\n",
        "\n",
        "\n",
        "def right_rec(f1, a, b, n):\n",
        "    h = (b - a) / n\n",
        "    sum = 0\n",
        "    for i in range(1, n + 1):\n",
        "        sum += f1(a + i * h)\n",
        "    return sum * h\n",
        "\n",
        "print(\"right rectangle:\", round(right_rec(f1, a, b, 10), 5))\n",
        "\n",
        "def aver_rec(f1, a, b, n):\n",
        "    h = 0.08\n",
        "    sum = 0\n",
        "    for i in range(0, n):\n",
        "        sum += f1(a + i * h)\n",
        "    return sum * h\n",
        "\n",
        "print(\"left rectangle:\", round(left_rec(f1, a, b, 10), 5))\n",
        "print(\"average rectangle:\", round(aver_rec(f1, a, b, 10), 5))\n",
        "print(\"Check for the rectangle method= \", round(v, 5))\n",
        "\n"
      ],
      "metadata": {
        "colab": {
          "base_uri": "https://localhost:8080/"
        },
        "id": "OJap1QwYyFZd",
        "outputId": "4c62e6e4-00d8-44ef-e7b2-c22e2335a598"
      },
      "execution_count": 5,
      "outputs": [
        {
          "output_type": "stream",
          "name": "stdout",
          "text": [
            "right rectangle: 0.54653\n",
            "left rectangle: 0.51543\n",
            "average rectangle: 0.44504\n",
            "Check for the rectangle method=  0.5311\n"
          ]
        }
      ]
    },
    {
      "cell_type": "code",
      "source": [
        "from scipy import integrate\n",
        "import numpy as np\n",
        "\n",
        "# Задаємо функцію, яку необхідно інтегрувати\n",
        "def f(x):\n",
        "    return np.tan(x**2 + 0.5) / (1 + 2 * x**2)\n",
        "\n",
        "# Задаємо межі інтегрування та початкову кількість розбиттів\n",
        "a = 0.4\n",
        "b = 0.8\n",
        "n = 20\n",
        "\n",
        "# Обчислюємо значення інтегралу методом трапецій\n",
        "def trapezoidal_rule(f, a, b, n):\n",
        "    h = (b - a) / n\n",
        "    x = a\n",
        "    sum = 0\n",
        "    for i in range(1, n):\n",
        "        x += h\n",
        "        sum += 2 * f(x)\n",
        "    sum += f(b)\n",
        "    integral = h / 2 * sum\n",
        "    return integral\n",
        "\n",
        "# Обчислюємо значення інтегралу методом трапецій з точністю 0.001\n",
        "# Перевірка точності за правилом Рунге\n",
        "integral1 = trapezoidal_rule(f, a, b, n)\n",
        "n *= 2\n",
        "integral2 = trapezoidal_rule(f, a, b, n)\n",
        "while abs(integral2 - integral1) / 3 > 0.001:\n",
        "    integral1 = integral2\n",
        "    n *= 2\n",
        "    integral2 = trapezoidal_rule(f, a, b, n)\n",
        "\n",
        "# Виводимо результат\n",
        "print(\"Trapezoidal method:\", round(integral2, 3))\n",
        "# Перевірка\n",
        "v, err = integrate.quad(f, a, b)\n",
        "print(\"Check for the trapezoidal method =\", round(v, 5))"
      ],
      "metadata": {
        "colab": {
          "base_uri": "https://localhost:8080/"
        },
        "id": "vucbLLn41tLO",
        "outputId": "f7745cfe-d9fa-44cb-f2d0-c725bf9f77aa"
      },
      "execution_count": 13,
      "outputs": [
        {
          "output_type": "stream",
          "name": "stdout",
          "text": [
            "Trapezoidal method: 0.279\n",
            "Check for the trapezoidal method = 0.28172\n"
          ]
        }
      ]
    },
    {
      "cell_type": "code",
      "source": [
        "from scipy import integrate\n",
        "import numpy as np\n",
        "\n",
        "# Задаємо функцію, яку необхідно інтегрувати\n",
        "def f(x):\n",
        "    return x / np.sqrt(2*x**2 + 0.3)\n",
        "\n",
        "# Задаємо межі інтегрування та початкову кількість розбиттів\n",
        "a = 0.8\n",
        "b = 1.7\n",
        "n = 8\n",
        "\n",
        "# Обчислюємо значення інтегралу методом Симпсона\n",
        "def simpson_rule(f, a, b, n):\n",
        "    h = (b - a) / n\n",
        "    integr = f(a) + f(b)\n",
        "    for i in range(1, n):\n",
        "        k = a + i * h\n",
        "        if i % 2 == 0:\n",
        "            integr += 2 * f(k)\n",
        "        else:\n",
        "            integr += 4 * f(k)\n",
        "    integr *= h / 3\n",
        "    return integr\n",
        "\n",
        "# Обчислюємо значення інтегралу методом Сімпсона з точністю 0.001\n",
        "integral1 = simpson_rule(f, a, b, n)\n",
        "n *= 2\n",
        "integral2 = simpson_rule(f, a, b, n)\n",
        "while abs(integral2 - integral1) / 15 > 0.001:\n",
        "    integral1 = integral2\n",
        "    n *= 2\n",
        "    integral2 = simpson_rule(f, a, b, n)\n",
        "\n",
        "# Виводимо результат\n",
        "print(\"Simpson method:\", round(integral2, 3))\n",
        "v, err = integrate.quad(f, a, b)\n",
        "# Перевірка\n",
        "print(\"Check for the Simpson method= \", round(v, 3))"
      ],
      "metadata": {
        "colab": {
          "base_uri": "https://localhost:8080/"
        },
        "id": "CZQae8LAAMJ8",
        "outputId": "21d48cfd-0ab2-4391-c831-e498c892fa4d"
      },
      "execution_count": 8,
      "outputs": [
        {
          "output_type": "stream",
          "name": "stdout",
          "text": [
            "Simpson method: 0.604\n",
            "Check for the Simpson method=  0.604\n"
          ]
        }
      ]
    }
  ]
}