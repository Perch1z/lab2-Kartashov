{
  "metadata": {
    "language_info": {
      "name": ""
    },
    "kernelspec": {
      "name": "python",
      "display_name": "Python (Pyodide)",
      "language": "python"
    }
  },
  "nbformat_minor": 4,
  "nbformat": 4,
  "cells": [
    {
      "cell_type": "code",
      "source": "import sympy as sp\n\nimport numpy as np\n\nimport matplotlib.pyplot as plt\n\n# Задаємо символьну змінну x та функцію f(x)\n\nx = sp.symbols('x')\n\nf = sp.exp(sp.cos(x))\n\n# Знаходимо перші три похідні\n\nf1 = sp.diff(f, x)\n\nf2 = sp.diff(f1, x)\n\nf3 = sp.diff(f2, x)\n\n# Виводимо похідні\n\nprint(\"f'(x) =\", f1)\n\nprint(\"f''(x) =\", f2)\n\nprint(\"f'''(x) =\", f3)\n\n# Знаходимо значення функції та її похідних в точці x=0\n\nx0 = 0\n\nf_x0 = f.subs(x, x0).evalf()\n\nf1_x0 = f1.subs(x, x0).evalf()\n\nf2_x0 = f2.subs(x, x0).evalf()\n\nf3_x0 = f3.subs(x, x0).evalf()\n\n# Обчислюємо значення многочлена Тейлора в точці x=0\n\nT = f_x0 + f1_x0*(x-x0) + (f2_x0/2)*(x-x0)**2 + (f3_x0/6)*(x-x0)**3\n\n# Виводимо значення функції та її наближення за багаточленом Тейлора в точці x=0\n\nprint(\"f(0) =\", f_x0)\n\nprint(\"T(x) =\", T.evalf())\n\n# Будуємо графіки\n\nx_vals = np.linspace(-2, 2, 1000)\n\nf_vals = np.array([f.subs(x, xi).evalf() for xi in x_vals])\n\nT_vals = np.array([T.subs(x, xi).evalf() for xi in x_vals])\n\nfig, ax = plt.subplots()\n\nax.plot(x_vals, f_vals, label=\"f(x)\")\n\nax.plot(x_vals, T_vals, label=\"T(x)\")\n\nax.legend()\n\nax.set_xlabel(\"x\")\n\nax.set_ylabel(\"y\")\n\nax.set_title(\"Графік функції та наближення многочленом Тейлора\")\n\nplt.grid(True)\n\nplt.show()\n\n# Побудова багаточлена Тейлора за допомогою approximate_taylor_polynomial\n\nfrom scipy.interpolate import approximate_taylor_polynomial\n\n# Задана функція\n\ndef f(x):\n\nreturn np.exp(np.cos(x))\n\nx = np.linspace(-2.0, 2.0, num=400)\n\nplt.figure(figsize=(10, 6))\n\nplt.plot(x, f(x), label=\"f(x) curve\", color='blue')\n\ndegree = 3\n\ntaylor = approximate_taylor_polynomial(f, 0, degree, 1)\n\nprint('taylor=', taylor)\n\nplt.plot(x, taylor(x), label=f\"degree={degree}\", color='red', linestyle='--' )\n\nplt.legend(bbox_to_anchor=(1.05, 1), loc='upper left', borderaxespad=0.0, shadow=True)\n\nplt.xlabel(\"x\")\n\nplt.ylabel(\"y\")\n\nplt.title(\"Графік функції та наближення, багаточленами Тейлора\")\n\nplt.tight_layout()\n\nplt.grid()\n\nplt.show()",
      "metadata": {},
      "execution_count": null,
      "outputs": []
    }
  ]
}